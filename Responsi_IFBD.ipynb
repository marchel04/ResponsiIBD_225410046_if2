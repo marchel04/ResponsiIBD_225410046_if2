{
 "cells": [
  {
   "cell_type": "code",
   "execution_count": null,
   "id": "31920eaa-9475-4344-ae2e-783933b1079e",
   "metadata": {},
   "outputs": [],
   "source": []
  },
  {
   "cell_type": "code",
   "execution_count": null,
   "id": "d6a363e6-1e66-48ca-ba22-a0852b1069fa",
   "metadata": {},
   "outputs": [],
   "source": []
  },
  {
   "cell_type": "code",
   "execution_count": null,
   "id": "d4432914-159c-489e-9cf4-dfb5f4c02373",
   "metadata": {},
   "outputs": [],
   "source": []
  },
  {
   "cell_type": "markdown",
   "id": "8872fea8-3b85-4009-839a-3ae3fa506e2e",
   "metadata": {},
   "source": [
    "# membaca path dataset dan Schema"
   ]
  },
  {
   "cell_type": "code",
   "execution_count": null,
   "id": "2191730b-0508-4670-a491-84020cf14a42",
   "metadata": {},
   "outputs": [
    {
     "name": "stderr",
     "output_type": "stream",
     "text": [
      "[Stage 1:===================>                                       (1 + 2) / 3]\r"
     ]
    }
   ],
   "source": [
    "from pyspark.sql import SparkSession\n",
    "\n",
    "# Membuat Spark Session\n",
    "spark = SparkSession.builder \\\n",
    "    .appName(\"ReviewsFood\") \\\n",
    "    .getOrCreate()\n",
    "\n",
    "# Membaca data dari file CSV\n",
    "# Ganti 'path/to/your/file.csv' dengan path file CSV Anda\n",
    "df = spark.read.csv('jup_notebook/Reviews.csv', header=True, inferSchema=True)"
   ]
  },
  {
   "cell_type": "code",
   "execution_count": null,
   "id": "b2db1935-b621-4515-a0d8-d6e046180771",
   "metadata": {},
   "outputs": [],
   "source": [
    "# Menampilkan skema DataFrame (informasi kolom)\n",
    "print(\"Informasi schema dataset:\")\n",
    "df.printSchema()"
   ]
  },
  {
   "cell_type": "code",
   "execution_count": 9,
   "id": "cd888024-68e1-4321-950d-9122a7d071fd",
   "metadata": {},
   "outputs": [
    {
     "name": "stderr",
     "output_type": "stream",
     "text": [
      "[Stage 9:=============================>                             (1 + 1) / 2]\r"
     ]
    },
    {
     "name": "stdout",
     "output_type": "stream",
     "text": [
      "+-------+------------------+-------------+------------------+--------------+--------------------+----------------------+------------------+--------------------+--------------------+--------------------+\n",
      "|summary|                Id|    ProductId|            UserId|   ProfileName|HelpfulnessNumerator|HelpfulnessDenominator|             Score|                Time|             Summary|                Text|\n",
      "+-------+------------------+-------------+------------------+--------------+--------------------+----------------------+------------------+--------------------+--------------------+--------------------+\n",
      "|  count|             69513|        69513|             69513|         69513|               69513|                 69513|             69513|               69513|               69513|               69513|\n",
      "|   mean|           34757.0|2.734888454E9|              null|           NaN|  1.6257967537254108|    2.1095404832922666| 4.143912023375988|1.2888221006078575E9| 8.357201683803681E8|  8.29895496122807E8|\n",
      "| stddev|20066.818968137428|          0.0|              null|           NaN|   5.552281033489462|     6.265703949652994|1.3888620560648997|1.0057666262462375E8| 6.152571346314297E8| 6.143203925550152E8|\n",
      "|    min|                 1|   2734888454|#oc-R119LM8D59ZW8Y|        \u001a\u001a\u001a\u001a\u001a\u001a|            Judie\"\"\"|            & Books\"\"\"|              ...\"|                   0|      ! Mmmmmmmmmm !| 0% of what you d...|\n",
      "|    max|             69513|   B009WSNWC4|     AZZMO52V8WZ68|Étaín d'Orphée|                wife|               fur-mom|   book-blogger\"\"\"|          1351209600|«:::D:::» «:::E::...|~<br />This is a ...|\n",
      "+-------+------------------+-------------+------------------+--------------+--------------------+----------------------+------------------+--------------------+--------------------+--------------------+\n",
      "\n"
     ]
    },
    {
     "name": "stderr",
     "output_type": "stream",
     "text": [
      "                                                                                \r"
     ]
    }
   ],
   "source": [
    "# Menampilkan informasi statistik dari DataFrame\n",
    "df.describe().show()"
   ]
  },
  {
   "cell_type": "code",
   "execution_count": null,
   "id": "f6b0a917-254e-4c5d-8404-b4dee5e037dd",
   "metadata": {
    "scrolled": true
   },
   "outputs": [],
   "source": []
  },
  {
   "cell_type": "markdown",
   "id": "e09f6c46-7c4c-4936-b115-d5533beef028",
   "metadata": {},
   "source": [
    "# menampilkan data sesuai kebutuhan"
   ]
  },
  {
   "cell_type": "code",
   "execution_count": 35,
   "id": "28b70785-01ed-4a3c-88d4-03ee0266fe5a",
   "metadata": {},
   "outputs": [],
   "source": [
    "Ulasan = df.select('ProfileName','Summary','Score')"
   ]
  },
  {
   "cell_type": "code",
   "execution_count": 36,
   "id": "f9b01ef2-b353-447a-8925-0ca8d0487aca",
   "metadata": {},
   "outputs": [
    {
     "name": "stdout",
     "output_type": "stream",
     "text": [
      "+--------------------+--------------------+-----+\n",
      "|         ProfileName|             Summary|Score|\n",
      "+--------------------+--------------------+-----+\n",
      "|          delmartian|Good Quality Dog ...|    5|\n",
      "|              dll pa|   Not as Advertised|    1|\n",
      "|\"Natalia Corres \"...|\"\"\"Delight\"\" says...|    4|\n",
      "|                Karl|      Cough Medicine|    2|\n",
      "|\"Michael D. Bigha...|         Great taffy|    5|\n",
      "|      Twoapennything|          Nice Taffy|    4|\n",
      "|   David C. Sullivan|Great!  Just as g...|    5|\n",
      "|  Pamela G. Williams|Wonderful, tasty ...|    5|\n",
      "|            R. James|          Yay Barley|    5|\n",
      "|       Carol A. Reed|    Healthy Dog Food|    5|\n",
      "|        Canadian Fan|The Best Hot Sauc...|    5|\n",
      "|\"A Poeng \"\"Sparky...|\"My cats LOVE thi...|    5|\n",
      "|                  LT|My Cats Are Not F...|    1|\n",
      "| \"willie \"\"roadie\"\"\"|   fresh and greasy!|    4|\n",
      "|\"Lynrie \"\"Oh HELL...|Strawberry Twizzl...|    5|\n",
      "|        Brian A. Lee|Lots of twizzlers...|    5|\n",
      "|      Erica Neathery|          poor taste|    2|\n",
      "|               Becca|            Love it!|    5|\n",
      "|             Wolfee1|  GREAT SWEET CANDY!|    5|\n",
      "|                Greg|Home delivered tw...|    5|\n",
      "|            mom2emma|        Always fresh|    5|\n",
      "|      Tammy Anderson|           TWIZZLERS|    5|\n",
      "|       Charles Brown|  Delicious product!|    5|\n",
      "|              Mare's|           Twizzlers|    5|\n",
      "|\"S. Cabanaugh \"\"j...|Please sell these...|    5|\n",
      "+--------------------+--------------------+-----+\n",
      "only showing top 25 rows\n",
      "\n"
     ]
    }
   ],
   "source": [
    "Ulasan .show (25)"
   ]
  },
  {
   "cell_type": "code",
   "execution_count": 10,
   "id": "610469f3-3006-475a-ac39-85643f3045dc",
   "metadata": {},
   "outputs": [
    {
     "name": "stderr",
     "output_type": "stream",
     "text": [
      "                                                                                \r"
     ]
    }
   ],
   "source": []
  },
  {
   "cell_type": "markdown",
   "id": "b03e3b2f-8535-46e8-8f27-a04a9243e9dc",
   "metadata": {},
   "source": [
    "# Jumlah Kolom Dan Baris"
   ]
  },
  {
   "cell_type": "code",
   "execution_count": 26,
   "id": "cb92c1a9-1bbb-4554-bc94-3a01cec75b03",
   "metadata": {},
   "outputs": [
    {
     "name": "stdout",
     "output_type": "stream",
     "text": [
      "Jumlah kolom: 10\n"
     ]
    },
    {
     "name": "stderr",
     "output_type": "stream",
     "text": [
      "[Stage 38:>                                                         (0 + 2) / 3]\r"
     ]
    },
    {
     "name": "stdout",
     "output_type": "stream",
     "text": [
      "Jumlah baris: 568454\n"
     ]
    },
    {
     "name": "stderr",
     "output_type": "stream",
     "text": [
      "                                                                                \r"
     ]
    }
   ],
   "source": [
    "# Menghitung jumlah kolom\n",
    "print(f\"Jumlah kolom: {len(df.columns)}\")\n",
    "\n",
    "# Menghitung jumlah baris\n",
    "print(f\"Jumlah baris: {df.count()}\")"
   ]
  },
  {
   "cell_type": "markdown",
   "id": "81dfd59c-11e3-439b-ad67-4350d9162300",
   "metadata": {},
   "source": [
    "# ScoreUlasan"
   ]
  },
  {
   "cell_type": "code",
   "execution_count": 28,
   "id": "1aa0c9fe-6e99-4e37-b7d3-6c46802d373f",
   "metadata": {},
   "outputs": [
    {
     "name": "stderr",
     "output_type": "stream",
     "text": [
      "[Stage 41:======================================>                   (2 + 1) / 3]\r"
     ]
    },
    {
     "name": "stdout",
     "output_type": "stream",
     "text": [
      "+-----+------+\n",
      "|score| count|\n",
      "+-----+------+\n",
      "|    5|361648|\n",
      "|    4| 80141|\n",
      "|    3| 42502|\n",
      "|    2| 29877|\n",
      "|    1| 52635|\n",
      "+-----+------+\n",
      "\n"
     ]
    },
    {
     "name": "stderr",
     "output_type": "stream",
     "text": [
      "                                                                                \r"
     ]
    }
   ],
   "source": [
    "from pyspark.sql.functions import udf, col   \n",
    "#Memfilter hanya untuk Score dengan nilai 0.0\n",
    "UlasanFood= [2,4,5]\n",
    "df = df.filter(col(\"score\").isin(UlasanFood))\n",
    "\n",
    "#Menghitung jumlah setiap score\n",
    "score_counts = df.groupBy(\"score\").count().orderBy(col(\"score\").desc())\n",
    "\n",
    "#Menampilkan hasil dalam DataFrame PySpark\n",
    "score_counts.show()"
   ]
  },
  {
   "cell_type": "markdown",
   "id": "87c91103-e5b6-4dac-86b4-83bf29520ba6",
   "metadata": {},
   "source": [
    "# Matplot Visual"
   ]
  },
  {
   "cell_type": "code",
   "execution_count": 29,
   "id": "59c8733d-4311-4345-bbe7-5ca37f624dc4",
   "metadata": {},
   "outputs": [
    {
     "name": "stderr",
     "output_type": "stream",
     "text": [
      "                                                                                \r"
     ]
    },
    {
     "data": {
      "image/png": "[encoded data removed]",
      "text/plain": [
       "<Figure size 600x600 with 1 Axes>"
      ]
     },
     "metadata": {},
     "output_type": "display_data"
    }
   ],
   "source": [
    "import matplotlib.pyplot as plt\n",
    "\n",
    "#Memfilter hanya untuk Score dengan nilai 0,0\n",
    "scoreulasan = [2,4,5]\n",
    "df = df.filter(col(\"score\").isin(scoreulasan))\n",
    "\n",
    "#Menghitung jumlah setiap Score\n",
    "score_counts = df.groupBy(\"score\").count().orderBy(col(\"count\"))\n",
    "\n",
    "#Mengonversi hasil ke daftar untuk plotting\n",
    "scores = [row[\"score\"] for row in score_counts.collect()]\n",
    "counts = [row[\"count\"] for row in score_counts.collect()]\n",
    "\n",
    "#Membuat diagram pie\n",
    "plt.figure(figsize=(6,6))\n",
    "plt.pie(counts, labels=scores, autopct='%1.1f%%', startangle=90, colors=plt.cm.Paired.colors)\n",
    "plt.title(\"REVIEWS SCORE FOOD\")\n",
    "plt.show()"
   ]
  },
  {
   "cell_type": "code",
   "execution_count": null,
   "id": "f4b453a5-480b-41a4-8935-e1e0d49c3564",
   "metadata": {},
   "outputs": [],
   "source": []
  },
  {
   "cell_type": "code",
   "execution_count": null,
   "id": "e6cce6a8-c030-4133-8007-d6f3bd6b3cc0",
   "metadata": {},
   "outputs": [],
   "source": []
  }
 ],
 "metadata": {
  "kernelspec": {
   "display_name": "Python 3 (ipykernel)",
   "language": "python",
   "name": "python3"
  },
  "language_info": {
   "codemirror_mode": {
    "name": "ipython",
    "version": 3
   },
   "file_extension": ".py",
   "mimetype": "text/x-python",
   "name": "python",
   "nbconvert_exporter": "python",
   "pygments_lexer": "ipython3",
   "version": "3.10.12"
  }
 },
 "nbformat": 4,
 "nbformat_minor": 5
}
